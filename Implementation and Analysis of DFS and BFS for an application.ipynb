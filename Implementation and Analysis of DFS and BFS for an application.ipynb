{
  "nbformat": 4,
  "nbformat_minor": 0,
  "metadata": {
    "colab": {
      "name": "AI 4.ipynb",
      "provenance": []
    },
    "kernelspec": {
      "name": "python3",
      "display_name": "Python 3"
    }
  },
  "cells": [
    {
      "cell_type": "code",
      "metadata": {
        "id": "kAJF3qhcBnDC"
      },
      "source": [
        "from time import time\r\n",
        "graph = {\r\n",
        "  'Homepage' : ['AboutAuthor','RecipesIndex'],\r\n",
        "  'AboutAuthor': ['Summary','Contact'],\r\n",
        "  'Summary': [],\r\n",
        "  'Contact': [],\r\n",
        "  'RecipesIndex' : ['Veg'],\r\n",
        "  'Veg' : ['BreakfastIndex','LunchIndex','DinnerIndex'],\r\n",
        "  'BreakfastIndex' : ['Idli','Dosa'],\r\n",
        "  'LunchIndex' : ['RiceVariety','sambar','Curd'],\r\n",
        "  'DinnerIndex' : ['Chappathi','Naan','Phulka','AlooMutterMasala'],\r\n",
        "  'Idli':[],\r\n",
        "  'Dosa':[],\r\n",
        "  'RiceVariety':[],\r\n",
        "  'sambar':[],\r\n",
        "  'Curd':[],\r\n",
        "  'Chappathi':[],\r\n",
        "  'Naan':[],\r\n",
        "  'Phulka':[],\r\n",
        "  'AlooMutterMasala':[]\r\n",
        "}\r\n"
      ],
      "execution_count": 1,
      "outputs": []
    },
    {
      "cell_type": "code",
      "metadata": {
        "id": "zHPJ2kIKB_ZJ"
      },
      "source": [
        "visited = [] # List to keep track of visited nodes.\r\n",
        "queue = []     #Initialize a queue\r\n",
        "\r\n",
        "\r\n"
      ],
      "execution_count": 2,
      "outputs": []
    },
    {
      "cell_type": "code",
      "metadata": {
        "id": "TylFDE2nCCX6"
      },
      "source": [
        "def bfs(visited, graph, node):\r\n",
        "  visited.append(node)\r\n",
        "  queue.append(node)\r\n",
        "  while queue:\r\n",
        "    s = queue.pop(0) \r\n",
        "    print (s, end = \"\\n\") \r\n",
        "    for neighbour in graph[s]:\r\n",
        "      if neighbour not in visited:\r\n",
        "        visited.append(neighbour)\r\n",
        "        queue.append(neighbour)\r\n"
      ],
      "execution_count": 3,
      "outputs": []
    },
    {
      "cell_type": "code",
      "metadata": {
        "colab": {
          "base_uri": "https://localhost:8080/"
        },
        "id": "hioncpd4CFDl",
        "outputId": "76beb6de-884b-43fd-b41f-507cd5fbbfd8"
      },
      "source": [
        "t0 = time()\r\n",
        "bfs(visited, graph, 'Homepage')\r\n",
        "t1 = time() - t0\r\n",
        "print('Time for BFS :', t1, 'seconds')"
      ],
      "execution_count": 4,
      "outputs": [
        {
          "output_type": "stream",
          "text": [
            "Homepage\n",
            "AboutAuthor\n",
            "RecipesIndex\n",
            "Summary\n",
            "Contact\n",
            "Veg\n",
            "BreakfastIndex\n",
            "LunchIndex\n",
            "DinnerIndex\n",
            "Idli\n",
            "Dosa\n",
            "RiceVariety\n",
            "sambar\n",
            "Curd\n",
            "Chappathi\n",
            "Naan\n",
            "Phulka\n",
            "AlooMutterMasala\n",
            "Time for BFS : 0.0004355907440185547 seconds\n"
          ],
          "name": "stdout"
        }
      ]
    },
    {
      "cell_type": "code",
      "metadata": {
        "id": "tsc_OQ4KCLut"
      },
      "source": [
        "from time import time\r\n",
        "graph = {\r\n",
        "  'Homepage' : ['AboutAuthor','RecipesIndex'],\r\n",
        "  'AboutAuthor': ['Summary','Contact'],\r\n",
        "  'Summary': [],\r\n",
        "  'Contact': [],\r\n",
        "  'RecipesIndex' : ['Veg'],\r\n",
        "  'Veg' : ['BreakfastIndex','LunchIndex','DinnerIndex'],\r\n",
        "  'BreakfastIndex' : ['Idli','Dosa'],\r\n",
        "  'LunchIndex' : ['RiceVariety','sambar','Curd'],\r\n",
        "  'DinnerIndex' : ['Chappathi','Naan','Phulka','AlooMutterMasala'],\r\n",
        "  'Idli':[],\r\n",
        "  'Dosa':[],\r\n",
        "  'RiceVariety':[],\r\n",
        "  'sambar':[],\r\n",
        "  'Curd':[],\r\n",
        "  'Chappathi':[],\r\n",
        "  'Naan':[],\r\n",
        "  'Phulka':[],\r\n",
        "  'AlooMutterMasala':[]\r\n",
        "}\r\n"
      ],
      "execution_count": 5,
      "outputs": []
    },
    {
      "cell_type": "code",
      "metadata": {
        "id": "S9b1EGcuCUWZ"
      },
      "source": [
        "visited = set() # Set to keep track of visited nodes.\r\n",
        "def dfs(visited, graph, node):\r\n",
        "    if node not in visited:\r\n",
        "        print (node)\r\n",
        "        visited.add(node)\r\n",
        "        for neighbour in graph[node]:\r\n",
        "            dfs(visited, graph, neighbour)\r\n"
      ],
      "execution_count": 6,
      "outputs": []
    },
    {
      "cell_type": "code",
      "metadata": {
        "colab": {
          "base_uri": "https://localhost:8080/"
        },
        "id": "98rI6Al-CXMk",
        "outputId": "270de49a-65a1-4e3d-9f40-a940b45c172a"
      },
      "source": [
        "t0 = time()\r\n",
        "dfs(visited, graph, 'Homepage')\r\n",
        "t1 = time() - t0\r\n",
        "print('Time for DFS :', t1, 'seconds')\r\n"
      ],
      "execution_count": 7,
      "outputs": [
        {
          "output_type": "stream",
          "text": [
            "Homepage\n",
            "AboutAuthor\n",
            "Summary\n",
            "Contact\n",
            "RecipesIndex\n",
            "Veg\n",
            "BreakfastIndex\n",
            "Idli\n",
            "Dosa\n",
            "LunchIndex\n",
            "RiceVariety\n",
            "sambar\n",
            "Curd\n",
            "DinnerIndex\n",
            "Chappathi\n",
            "Naan\n",
            "Phulka\n",
            "AlooMutterMasala\n",
            "Time for DFS : 0.0008339881896972656 seconds\n"
          ],
          "name": "stdout"
        }
      ]
    }
  ]
}